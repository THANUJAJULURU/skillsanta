{
 "cells": [
  {
   "cell_type": "code",
   "execution_count": 1,
   "metadata": {},
   "outputs": [
    {
     "name": "stdout",
     "output_type": "stream",
     "text": [
      "Before changing: {'name': 'Sachin', 'age': 22, 'salary': 60000, 'city': 'New Delhi'}\n",
      "after changing: {'name': 'Sachin', 'age': 22, 'salary': 60000, 'location': 'New Delhi'}\n"
     ]
    }
   ],
   "source": [
    "# 1.changing the key from city to location \n",
    "skillsanta_Dict ={\"name\": \"Sachin\", \"age\": 22, \"salary\": 60000, \"city\": \"New Delhi\"}\n",
    "print(\"Before changing:\",skillsanta_Dict)\n",
    "x=skillsanta_Dict.pop(\"city\")\n",
    "skillsanta_Dict[\"location\"]=x\n",
    "print(\"after changing:\",skillsanta_Dict)"
   ]
  },
  {
   "cell_type": "code",
   "execution_count": 2,
   "metadata": {},
   "outputs": [
    {
     "name": "stdout",
     "output_type": "stream",
     "text": [
      "original list: [11, 45, 8, 11, 23, 45, 23, 45, 89]\n",
      "count of each element: {11: 2, 45: 3, 8: 1, 23: 2, 89: 1}\n"
     ]
    }
   ],
   "source": [
    "# 2.dictionary showing count of elements\n",
    "x=[11,45,8,11,23,45,23,45,89]\n",
    "print(\"original list:\",x)\n",
    "y={}\n",
    "for i in x:\n",
    "    count=0\n",
    "    for j in x:\n",
    "        if(i==j):\n",
    "            count=count+1\n",
    "    y[i]=count\n",
    "print(\"count of each element:\",y) "
   ]
  },
  {
   "cell_type": "code",
   "execution_count": 3,
   "metadata": {},
   "outputs": [
    {
     "name": "stdout",
     "output_type": "stream",
     "text": [
      "original list: [8, 1, 2, 9, 8, 7, 3, 4, 4, 7, 8]\n",
      "unique items: [1, 2, 9, 3, 4, 7, 8]\n",
      "In tuple represantation: (1, 2, 9, 3, 4, 7, 8)\n",
      "min: 1\n",
      "max: 9\n"
     ]
    }
   ],
   "source": [
    "# 3.Removing duplicates elements\n",
    "x=[8,1,2,9,8,7,3,4,4,7,8]\n",
    "print(\"original list:\",x)\n",
    "for i in x:\n",
    "    count=0\n",
    "    for j in x:\n",
    "        if(i==j):\n",
    "            count=count+1\n",
    "    if count>1:\n",
    "        x.pop(x.index(i))\n",
    "    \n",
    "print(\"unique items:\",x)\n",
    "print(\"In tuple represantation:\",tuple(x))\n",
    "x.sort()\n",
    "print(\"min:\",x[0])\n",
    "print(\"max:\",x[-1])\n"
   ]
  },
  {
   "cell_type": "code",
   "execution_count": 4,
   "metadata": {},
   "outputs": [
    {
     "name": "stdout",
     "output_type": "stream",
     "text": [
      "employee eddy salary: 5000\n",
      "employee vidya salary: 5000\n"
     ]
    }
   ],
   "source": [
    "# 4.function showing employee salary\n",
    "def funemployee(x,y=5000):\n",
    "    print(\"employee {} salary:\".format(x),y)\n",
    "funemployee(\"eddy\",5000)\n",
    "funemployee(\"vidya\")"
   ]
  },
  {
   "cell_type": "code",
   "execution_count": 5,
   "metadata": {},
   "outputs": [
    {
     "name": "stdout",
     "output_type": "stream",
     "text": [
      "final sum: 10\n"
     ]
    }
   ],
   "source": [
    "# 5.summation using inner and outerfunctions.\n",
    "def outerfun(x,y):\n",
    "    def innerfun(a,b):\n",
    "        sum=a+b\n",
    "        return sum\n",
    "    finalsum=5+innerfun(x,y)\n",
    "    return finalsum\n",
    "sum=outerfun (2,3)\n",
    "print(\"final sum:\",sum)"
   ]
  },
  {
   "cell_type": "code",
   "execution_count": 6,
   "metadata": {},
   "outputs": [
    {
     "name": "stdout",
     "output_type": "stream",
     "text": [
      "Fibonacci sequence:\n",
      "0\n",
      "1\n",
      "1\n",
      "2\n",
      "3\n",
      "5\n",
      "8\n",
      "13\n",
      "21\n",
      "34\n"
     ]
    }
   ],
   "source": [
    "# 6. Python program to display the Fibonacci sequence\n",
    "\n",
    "def recur_fibo(n):\n",
    "    if n <= 1:\n",
    "        return n\n",
    "    else:\n",
    "        return(recur_fibo(n-1) + recur_fibo(n-2))\n",
    "\n",
    "nterms = 10\n",
    "\n",
    "# check if the number of terms is valid\n",
    "if nterms <= 0:\n",
    "    print(\"Plese enter a positive integer\")\n",
    "else:\n",
    "    print(\"Fibonacci sequence:\")\n",
    "    for i in range(nterms):\n",
    "        print(recur_fibo(i))"
   ]
  },
  {
   "cell_type": "code",
   "execution_count": 7,
   "metadata": {},
   "outputs": [
    {
     "name": "stdout",
     "output_type": "stream",
     "text": [
      "The age of sree is: 23\n",
      "The age of gita is: 24\n"
     ]
    }
   ],
   "source": [
    "# 7.calling a function with new name\n",
    "def displaystudent(name,age):\n",
    "    print(\"The age of {} is:\".format(name),age)\n",
    "    \n",
    "displaystudent(\"sree\",23)\n",
    "showstudent=displaystudent\n",
    "showstudent(\"gita\",24)"
   ]
  },
  {
   "cell_type": "code",
   "execution_count": 8,
   "metadata": {},
   "outputs": [
    {
     "name": "stdout",
     "output_type": "stream",
     "text": [
      "Invalid Number\n"
     ]
    }
   ],
   "source": [
    "# 8.Python program to check if given mobile number is valid \n",
    "\n",
    "import re \n",
    "def isValid(s): \n",
    "\n",
    "    # 1) Begins with 0 or 91 \n",
    "\n",
    "    # 2) Then contains 7 or 8 or 9. \n",
    "\n",
    "    # 3) Then contains 9 digits \n",
    "\n",
    "    Pattern = re.compile(\"(0/91)?[7-9][0-9]{9}\") \n",
    "\n",
    "    return Pattern.match(s) \n",
    "\n",
    "  \n",
    "# Driver Code \n",
    "\n",
    "s = \"347873923408\"\n",
    "\n",
    "if (isValid(s)):  \n",
    "    print (\"Valid Number\")      \n",
    "\n",
    "else : \n",
    "    print (\"Invalid Number\")  "
   ]
  },
  {
   "cell_type": "code",
   "execution_count": 9,
   "metadata": {},
   "outputs": [
    {
     "name": "stdout",
     "output_type": "stream",
     "text": [
      "no. of upper case characters: 3\n",
      "no. of lower case characters: 13\n"
     ]
    }
   ],
   "source": [
    "# 9.finding total number of upper and lower case letters\n",
    "x='The quick Brown Fox'\n",
    "y=list(x.upper())\n",
    "z=list(x.lower())\n",
    "x=list(x)\n",
    "#to find uppercase letters\n",
    "count=0\n",
    "for i in range(len(x)):\n",
    "    j=i\n",
    "    if(x[i]==y[j] and x[i]!=\" \"):\n",
    "        count=count+1\n",
    "print(\"no. of upper case characters:\",count) \n",
    "\n",
    "#to find lowercase letters\n",
    "count=0\n",
    "for i in range(len(x)):\n",
    "    k=i\n",
    "    if(x[i]==z[k] and x[i]!=\" \"):\n",
    "        count=count+1\n",
    "print(\"no. of lower case characters:\",count) \n",
    "    "
   ]
  },
  {
   "cell_type": "code",
   "execution_count": 10,
   "metadata": {},
   "outputs": [
    {
     "name": "stdout",
     "output_type": "stream",
     "text": [
      "True\n"
     ]
    }
   ],
   "source": [
    "#perfect number program\n",
    "def perfect_number(n):\n",
    "    sum = 0\n",
    "    for x in range(1, n):\n",
    "        if n % x == 0:\n",
    "            sum += x\n",
    "    return sum == n\n",
    "print(perfect_number(6))"
   ]
  },
  {
   "cell_type": "code",
   "execution_count": null,
   "metadata": {},
   "outputs": [],
   "source": []
  }
 ],
 "metadata": {
  "kernelspec": {
   "display_name": "Python 3",
   "language": "python",
   "name": "python3"
  },
  "language_info": {
   "codemirror_mode": {
    "name": "ipython",
    "version": 3
   },
   "file_extension": ".py",
   "mimetype": "text/x-python",
   "name": "python",
   "nbconvert_exporter": "python",
   "pygments_lexer": "ipython3",
   "version": "3.7.6"
  }
 },
 "nbformat": 4,
 "nbformat_minor": 4
}
