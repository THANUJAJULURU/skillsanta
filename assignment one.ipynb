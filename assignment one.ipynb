{
 "cells": [
  {
   "cell_type": "code",
   "execution_count": 1,
   "metadata": {},
   "outputs": [
    {
     "name": "stdout",
     "output_type": "stream",
     "text": [
      "[3, 4, 6, 7, 10, 17, 90]\n",
      "largest number in list 90\n"
     ]
    }
   ],
   "source": [
    "#largest number in the list\n",
    "list1=[4,6,10,3,17,90,7]\n",
    "list1.sort()\n",
    "print(list1)\n",
    "print(\"largest number in list\",list1[-1])"
   ]
  },
  {
   "cell_type": "code",
   "execution_count": 2,
   "metadata": {},
   "outputs": [
    {
     "name": "stdout",
     "output_type": "stream",
     "text": [
      "before swapping [1, 2, 3, 4]\n",
      "after swaping [4, 2, 3, 1]\n"
     ]
    }
   ],
   "source": [
    "#swaping first and last number in a list\n",
    "a=[1,2,3,4]\n",
    "print(\"before swapping\",a)\n",
    "temp=a[0]\n",
    "a[0]=a[-1]\n",
    "a[-1]=temp\n",
    "print(\"after swaping\",a)"
   ]
  },
  {
   "cell_type": "code",
   "execution_count": 3,
   "metadata": {},
   "outputs": [
    {
     "name": "stdout",
     "output_type": "stream",
     "text": [
      "after appending: [1, 9, 3, 4, 5, 6, 0, 8]\n",
      "after sorting [0, 1, 3, 4, 5, 6, 8, 9]\n"
     ]
    }
   ],
   "source": [
    "#appending and sorting the lists\n",
    "list1=[1,9,3,4]\n",
    "list2=[5,6,0,8]\n",
    "list1.extend(list2)\n",
    "print(\"after appending:\",list1)\n",
    "list1.sort()\n",
    "print(\"after sorting\",list1)"
   ]
  },
  {
   "cell_type": "code",
   "execution_count": 4,
   "metadata": {},
   "outputs": [
    {
     "name": "stdout",
     "output_type": "stream",
     "text": [
      "[3, 4, 6, 7, 10, 17, 90]\n",
      "second number in list 17\n"
     ]
    }
   ],
   "source": [
    "#second number in the list\n",
    "list1=[4,6,10,3,17,90,7]\n",
    "list1.sort()\n",
    "print(list1)\n",
    "print(\"second number in list\",list1[-2])"
   ]
  },
  {
   "cell_type": "code",
   "execution_count": null,
   "metadata": {},
   "outputs": [],
   "source": []
  }
 ],
 "metadata": {
  "kernelspec": {
   "display_name": "Python 3",
   "language": "python",
   "name": "python3"
  },
  "language_info": {
   "codemirror_mode": {
    "name": "ipython",
    "version": 3
   },
   "file_extension": ".py",
   "mimetype": "text/x-python",
   "name": "python",
   "nbconvert_exporter": "python",
   "pygments_lexer": "ipython3",
   "version": "3.7.6"
  }
 },
 "nbformat": 4,
 "nbformat_minor": 4
}
