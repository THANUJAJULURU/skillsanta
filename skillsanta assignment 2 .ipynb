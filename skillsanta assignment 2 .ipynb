{
 "cells": [
  {
   "cell_type": "code",
   "execution_count": 1,
   "metadata": {},
   "outputs": [
    {
     "name": "stdout",
     "output_type": "stream",
     "text": [
      "Enter your choice:\n",
      " 1.signin\n",
      " 2.sign up\n",
      " 3.Exit1\n",
      "Enter Account Number:1001\n",
      "Enter password:1234\n",
      "welcome sree\n",
      "Enter your choice:\n",
      "1.check balance\n",
      "2.Deposit balance\n",
      "3.withdrawal\n",
      "4.logout3\n",
      "Enter withdraw amount3000\n",
      "collect your cash: 3000\n",
      "Enter your choice:\n",
      "1.check balance\n",
      "2.Deposit balance\n",
      "3.withdrawal\n",
      "4.logout1\n",
      "Your balance: 2000\n",
      "Enter your choice:\n",
      "1.check balance\n",
      "2.Deposit balance\n",
      "3.withdrawal\n",
      "4.logout4\n",
      "sucessfully logged out\n"
     ]
    }
   ],
   "source": [
    "database={1001:{'name':'sree',\n",
    "                'age':25,\n",
    "                'email':'gnanasree@gmail.com',\n",
    "                'password':1234,\n",
    "                'amount':5000\n",
    "               },\n",
    "          1002:{'name':'jaya',\n",
    "                'age':35,\n",
    "                'email':'jaya@gmail.com',\n",
    "                'password':1335,\n",
    "                'amount':15000\n",
    "               }\n",
    "         }\n",
    "i=int(input(\"Enter your choice:\\n 1.signin\\n 2.sign up\\n 3.Exit\"))\n",
    "if(i==1):\n",
    "    account=int(input(\"Enter Account Number:\"))\n",
    "    passkey=int(input(\"Enter password:\"))\n",
    "    if(account in database.keys() and passkey==database[account]['password']):\n",
    "        print(\"welcome\",database[account]['name'])\n",
    "        j=int(input(\"Enter your choice:\\n1.check balance\\n2.Deposit balance\\n3.withdrawal\\n4.logout\"))\n",
    "        while (j<5):\n",
    "            if(j==1):\n",
    "                print(\"Your balance:\",database[account]['amount'])\n",
    "                \n",
    "            elif(j==2):\n",
    "                y=int(input(\"deposit amount:\"))\n",
    "                database[account]['amount']=database[account]['amount']+y\n",
    "                \n",
    "            elif(j==3):\n",
    "                z=int(input(\"Enter withdraw amount\"))\n",
    "                print(\"collect your cash:\",z)\n",
    "                database[account]['amount']=database[account]['amount']-z\n",
    "                \n",
    "            else:\n",
    "                print(\"sucessfully logged out\")\n",
    "                break\n",
    "            j=int(input(\"Enter your choice:\\n1.check balance\\n2.Deposit balance\\n3.withdrawal\\n4.logout\"))\n",
    "    else:\n",
    "        print(\"wrong password\")\n",
    "elif(i==2):\n",
    "    account=int(input(\"enter the account number:\"))\n",
    "    details=input(\"enter the fields:name,age,password,amount each seperated by coma and against colon\")\n",
    "    database[account]=details\n",
    "    print(database)\n",
    "    print(\"account is updated successfully\")\n",
    "else:\n",
    "    print(\"exited successfully\")"
   ]
  },
  {
   "cell_type": "code",
   "execution_count": null,
   "metadata": {},
   "outputs": [],
   "source": []
  }
 ],
 "metadata": {
  "kernelspec": {
   "display_name": "Python 3",
   "language": "python",
   "name": "python3"
  },
  "language_info": {
   "codemirror_mode": {
    "name": "ipython",
    "version": 3
   },
   "file_extension": ".py",
   "mimetype": "text/x-python",
   "name": "python",
   "nbconvert_exporter": "python",
   "pygments_lexer": "ipython3",
   "version": "3.7.6"
  }
 },
 "nbformat": 4,
 "nbformat_minor": 4
}
